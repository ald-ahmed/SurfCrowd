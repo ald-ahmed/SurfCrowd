{
  "nbformat": 4,
  "nbformat_minor": 0,
  "metadata": {
    "colab": {
      "name": "SurfCrowd - Realtime Surfer Detection Model",
      "provenance": [],
      "collapsed_sections": [],
      "toc_visible": true,
      "include_colab_link": true
    },
    "kernelspec": {
      "name": "python3",
      "display_name": "Python 3"
    },
    "accelerator": "GPU"
  },
  "cells": [
    {
      "cell_type": "markdown",
      "metadata": {
        "id": "view-in-github",
        "colab_type": "text"
      },
      "source": [
        "<a href=\"https://colab.research.google.com/github/ald-ahmed/SurfCrowd/blob/master/SurfCrowd_Realtime_Surfer_Detection_Model.ipynb\" target=\"_parent\"><img src=\"https://colab.research.google.com/assets/colab-badge.svg\" alt=\"Open In Colab\"/></a>"
      ]
    },
    {
      "cell_type": "markdown",
      "metadata": {
        "id": "g6zJeetst2T8",
        "colab_type": "text"
      },
      "source": [
        "\n",
        "# SurfCrowd - A Realtime Surfer Detection Model\n",
        "\n",
        "\n",
        "---\n",
        "\n",
        "The following work showcases a yolo-based model that has been trained on surfing live cams. The output shows bounding boxes around surfers, enabling tracking and/or counting abilities in realtime. Powered by [Surfline](https://www.surfline.com/surf-report/upper-trestles/5842041f4e65fad6a7708887) and created by [J. Dulaimy](https://www.surfline.com/surf-report/upper-trestles/5842041f4e65fad6a7708887)\n",
        "\n",
        "---\n",
        "\n",
        "\n",
        "#### Example output on Upper Trestles live cam ([source](https://www.surfline.com/surf-report/upper-trestles/5842041f4e65fad6a7708887))\n",
        "\n",
        "<div>\n",
        "<img src=\"https://storage.googleapis.com/ahmed.software/projects/surfcrowd2-min.gif\" width=\"500\"/>\n",
        "</div>\n",
        "\n",
        "\n",
        "#### Performance metrics on a small dataset after 300 epochs of training (~1000 images with 15-20 surfers)\n",
        "\n",
        "<div>\n",
        "<img src=\"http://ahmed.software/projects/crowd%20surf%20performance.png\" width=\"500\"/>\n",
        "</div>\n",
        "\n",
        "\n"
      ]
    },
    {
      "cell_type": "markdown",
      "metadata": {
        "id": "7mGmQbAO5pQb",
        "colab_type": "text"
      },
      "source": [
        "#Install Dependencies\n",
        "\n",
        "*Choose GPU in Runtime if not already selected. Runtime --> Change Runtime Type --> Hardware accelerator --> GPU*"
      ]
    },
    {
      "cell_type": "code",
      "metadata": {
        "id": "wbvMlHd_QwMG",
        "colab_type": "code",
        "colab": {
          "base_uri": "https://localhost:8080/",
          "height": 34
        },
        "outputId": "c1af18c3-a3ed-41f2-9d72-4fe4ab3a447e"
      },
      "source": [
        "!git clone https://github.com/ald-ahmed/SurfCrowd  # clone repo\n",
        "!pip install -r SurfCrowd/requirements.txt\n",
        "\n",
        "%cd SurfCrowd\n",
        "\n",
        "import torch\n",
        "from IPython.display import Image, clear_output \n",
        "\n",
        "clear_output()\n",
        "print('Setup complete. Using torch %s %s' % (torch.__version__, torch.cuda.get_device_properties(0) if torch.cuda.is_available() else 'CPU'))"
      ],
      "execution_count": 1,
      "outputs": [
        {
          "output_type": "stream",
          "text": [
            "Setup complete. Using torch 1.5.1+cu101 _CudaDeviceProperties(name='Tesla T4', major=7, minor=5, total_memory=15079MB, multi_processor_count=40)\n"
          ],
          "name": "stdout"
        }
      ]
    },
    {
      "cell_type": "markdown",
      "metadata": {
        "id": "UwJx-2NHsYxT",
        "colab_type": "text"
      },
      "source": [
        "# Model Configuration and Architecture\n",
        "\n",
        "Here is a yaml script that defines the parameters for our model like the number of classes, anchors, and each layer.\n",
        "\n",
        "*This is here for informational purposes only. You do not need to edit these cells.*"
      ]
    },
    {
      "cell_type": "code",
      "metadata": {
        "id": "uDxebz13RdRA",
        "colab_type": "code",
        "colab": {
          "base_uri": "https://localhost:8080/",
          "height": 0
        },
        "outputId": "efe9d091-bca8-4747-fa7e-6c6c57822a26"
      },
      "source": [
        "%cd /content/\n",
        "\n",
        "num_classes = \"1\"\n",
        "\n",
        "##write custom model .yaml\n",
        "#you can configure this based on other YOLOv5 models in the models directory\n",
        "with open('SurfCrowd/models/custom_yolov5s.yaml', 'w') as f:\n",
        "  # parameters\n",
        "  f.write('nc: ' + num_classes + '\\n')\n",
        "  #f.write('nc: ' + str(len(class_labels)) + '\\n')\n",
        "  f.write('depth_multiple: 0.33'  + '\\n') # model depth multiple\n",
        "  f.write('width_multiple: 0.50'  + '\\n')  # layer channel multiple\n",
        "  f.write('\\n')\n",
        "  f.write('anchors:' + '\\n')\n",
        "  f.write('  - [10,13, 16,30, 33,23] ' + '\\n')\n",
        "  f.write('  - [30,61, 62,45, 59,119]' + '\\n')\n",
        "  f.write('  - [116,90, 156,198, 373,326] ' + '\\n')\n",
        "  f.write('\\n')\n",
        "\n",
        "  f.write('backbone:' + '\\n')\n",
        "  f.write('  [[-1, 1, Focus, [64, 3]],' + '\\n')\n",
        "  f.write('   [-1, 1, Conv, [128, 3, 2]],' + '\\n')\n",
        "  f.write('   [-1, 3, Bottleneck, [128]],' + '\\n')\n",
        "  f.write('   [-1, 1, Conv, [256, 3, 2]],' + '\\n')\n",
        "  f.write('   [-1, 9, BottleneckCSP, [256]],' + '\\n')\n",
        "  f.write('   [-1, 1, Conv, [512, 3, 2]], ' + '\\n')\n",
        "  f.write('   [-1, 9, BottleneckCSP, [512]],' + '\\n')\n",
        "  f.write('   [-1, 1, Conv, [1024, 3, 2]],' + '\\n')\n",
        "  f.write('   [-1, 1, SPP, [1024, [5, 9, 13]]],' + '\\n')\n",
        "  f.write('   [-1, 6, BottleneckCSP, [1024]],' + '\\n')\n",
        "  f.write('  ]' + '\\n')\n",
        "  f.write('\\n')\n",
        "\n",
        "  f.write('head:'  + '\\n')\n",
        "  f.write('  [[-1, 3, BottleneckCSP, [1024, False]],'  + '\\n')\n",
        "  f.write('   [-1, 1, nn.Conv2d, [na * (nc + 5), 1, 1, 0]],' + '\\n')\n",
        "  f.write('   [-2, 1, nn.Upsample, [None, 2, \"nearest\"]],' + '\\n')\n",
        "  \n",
        "  f.write('   [[-1, 6], 1, Concat, [1]],' + '\\n')\n",
        "  f.write('   [-1, 1, Conv, [512, 1, 1]],' + '\\n')\n",
        "  f.write('   [-1, 3, BottleneckCSP, [512, False]],' + '\\n')\n",
        "  f.write('   [-1, 1, nn.Conv2d, [na * (nc + 5), 1, 1, 0]],' + '\\n')\n",
        "  \n",
        "  f.write('   [-2, 1, nn.Upsample, [None, 2, \"nearest\"]],' + '\\n')\n",
        "  f.write('   [[-1, 4], 1, Concat, [1]],' + '\\n')\n",
        "  f.write('   [-1, 1, Conv, [256, 1, 1]],' + '\\n')\n",
        "  f.write('   [-1, 3, BottleneckCSP, [256, False]],' + '\\n')\n",
        "  f.write('   [-1, 1, nn.Conv2d, [na * (nc + 5), 1, 1, 0]],' + '\\n')\n",
        "  f.write('\\n' )\n",
        "  f.write('   [[], 1, Detect, [nc, anchors]],' + '\\n')\n",
        "  f.write('  ]' + '\\n')\n",
        "\n",
        "print('custom model config written!')"
      ],
      "execution_count": 2,
      "outputs": [
        {
          "output_type": "stream",
          "text": [
            "/content\n",
            "custom model config written!\n"
          ],
          "name": "stdout"
        }
      ]
    },
    {
      "cell_type": "markdown",
      "metadata": {
        "id": "Nfr3BZaVwCKp",
        "colab_type": "text"
      },
      "source": [
        "# Predict\n",
        "\n",
        "The following will load the pretrained weigths into the model and  generate an output for each frame in the input video. Each frame takes around 0.020s to process, which translates to 50 fps!\n"
      ]
    },
    {
      "cell_type": "code",
      "metadata": {
        "id": "r9CH20dnwA2V",
        "colab_type": "code",
        "colab": {
          "base_uri": "https://localhost:8080/",
          "height": 1000
        },
        "outputId": "8d7cf32e-c2ee-4a93-b8d9-857ae6372126"
      },
      "source": [
        "%cd /content/SurfCrowd/\n",
        "!rm -rf /inference/output\n",
        "\n",
        "# predict using the pretrained weights. Note the image size, confidence, and source parameters  \n",
        "!python detect.py --weights weights/last_yolov5s_results.pt --img 1920 --save-txt --conf 0.4 --source data/test/video/1.mp4"
      ],
      "execution_count": 6,
      "outputs": [
        {
          "output_type": "stream",
          "text": [
            "/content/SurfCrowd\n",
            "Namespace(agnostic_nms=False, augment=False, classes=None, conf_thres=0.4, device='', fourcc='mp4v', img_size=1920, iou_thres=0.5, output='inference/output', save_txt=True, source='data/test/video/2.mp4', view_img=False, weights='weights/last_yolov5s_results.pt')\n",
            "Using CUDA device0 _CudaDeviceProperties(name='Tesla T4', total_memory=15079MB)\n",
            "\n",
            "video 1/1 (1/216) data/test/video/2.mp4: 1088x1920 16 0s, Done. (0.027s)\n",
            "video 1/1 (2/216) data/test/video/2.mp4: 1088x1920 15 0s, Done. (0.025s)\n",
            "video 1/1 (3/216) data/test/video/2.mp4: 1088x1920 13 0s, Done. (0.026s)\n",
            "video 1/1 (4/216) data/test/video/2.mp4: 1088x1920 16 0s, Done. (0.026s)\n",
            "video 1/1 (5/216) data/test/video/2.mp4: 1088x1920 16 0s, Done. (0.026s)\n",
            "video 1/1 (6/216) data/test/video/2.mp4: 1088x1920 19 0s, Done. (0.026s)\n",
            "video 1/1 (7/216) data/test/video/2.mp4: 1088x1920 12 0s, Done. (0.025s)\n",
            "video 1/1 (8/216) data/test/video/2.mp4: 1088x1920 14 0s, Done. (0.025s)\n",
            "video 1/1 (9/216) data/test/video/2.mp4: 1088x1920 16 0s, Done. (0.025s)\n",
            "video 1/1 (10/216) data/test/video/2.mp4: 1088x1920 14 0s, Done. (0.025s)\n",
            "video 1/1 (11/216) data/test/video/2.mp4: 1088x1920 15 0s, Done. (0.025s)\n",
            "video 1/1 (12/216) data/test/video/2.mp4: 1088x1920 18 0s, Done. (0.025s)\n",
            "video 1/1 (13/216) data/test/video/2.mp4: 1088x1920 16 0s, Done. (0.025s)\n",
            "video 1/1 (14/216) data/test/video/2.mp4: 1088x1920 16 0s, Done. (0.025s)\n",
            "video 1/1 (15/216) data/test/video/2.mp4: 1088x1920 15 0s, Done. (0.025s)\n",
            "video 1/1 (16/216) data/test/video/2.mp4: 1088x1920 13 0s, Done. (0.025s)\n",
            "video 1/1 (17/216) data/test/video/2.mp4: 1088x1920 17 0s, Done. (0.024s)\n",
            "video 1/1 (18/216) data/test/video/2.mp4: 1088x1920 20 0s, Done. (0.025s)\n",
            "video 1/1 (19/216) data/test/video/2.mp4: 1088x1920 20 0s, Done. (0.025s)\n",
            "video 1/1 (20/216) data/test/video/2.mp4: 1088x1920 17 0s, Done. (0.022s)\n",
            "video 1/1 (21/216) data/test/video/2.mp4: 1088x1920 16 0s, Done. (0.022s)\n",
            "video 1/1 (22/216) data/test/video/2.mp4: 1088x1920 16 0s, Done. (0.022s)\n",
            "video 1/1 (23/216) data/test/video/2.mp4: 1088x1920 13 0s, Done. (0.022s)\n",
            "video 1/1 (24/216) data/test/video/2.mp4: 1088x1920 16 0s, Done. (0.022s)\n",
            "video 1/1 (25/216) data/test/video/2.mp4: 1088x1920 12 0s, Done. (0.022s)\n",
            "video 1/1 (26/216) data/test/video/2.mp4: 1088x1920 17 0s, Done. (0.022s)\n",
            "video 1/1 (27/216) data/test/video/2.mp4: 1088x1920 17 0s, Done. (0.022s)\n",
            "video 1/1 (28/216) data/test/video/2.mp4: 1088x1920 17 0s, Done. (0.022s)\n",
            "video 1/1 (29/216) data/test/video/2.mp4: 1088x1920 18 0s, Done. (0.022s)\n",
            "video 1/1 (30/216) data/test/video/2.mp4: 1088x1920 20 0s, Done. (0.022s)\n",
            "video 1/1 (31/216) data/test/video/2.mp4: 1088x1920 20 0s, Done. (0.022s)\n",
            "video 1/1 (32/216) data/test/video/2.mp4: 1088x1920 17 0s, Done. (0.022s)\n",
            "video 1/1 (33/216) data/test/video/2.mp4: 1088x1920 18 0s, Done. (0.022s)\n",
            "video 1/1 (34/216) data/test/video/2.mp4: 1088x1920 16 0s, Done. (0.022s)\n",
            "video 1/1 (35/216) data/test/video/2.mp4: 1088x1920 14 0s, Done. (0.022s)\n",
            "video 1/1 (36/216) data/test/video/2.mp4: 1088x1920 15 0s, Done. (0.022s)\n",
            "video 1/1 (37/216) data/test/video/2.mp4: 1088x1920 16 0s, Done. (0.021s)\n",
            "video 1/1 (38/216) data/test/video/2.mp4: 1088x1920 16 0s, Done. (0.021s)\n",
            "video 1/1 (39/216) data/test/video/2.mp4: 1088x1920 17 0s, Done. (0.022s)\n",
            "video 1/1 (40/216) data/test/video/2.mp4: 1088x1920 17 0s, Done. (0.022s)\n",
            "video 1/1 (41/216) data/test/video/2.mp4: 1088x1920 15 0s, Done. (0.022s)\n",
            "video 1/1 (42/216) data/test/video/2.mp4: 1088x1920 16 0s, Done. (0.022s)\n",
            "video 1/1 (43/216) data/test/video/2.mp4: 1088x1920 15 0s, Done. (0.022s)\n",
            "video 1/1 (44/216) data/test/video/2.mp4: 1088x1920 15 0s, Done. (0.022s)\n",
            "video 1/1 (45/216) data/test/video/2.mp4: 1088x1920 18 0s, Done. (0.022s)\n",
            "video 1/1 (46/216) data/test/video/2.mp4: 1088x1920 14 0s, Done. (0.021s)\n",
            "video 1/1 (47/216) data/test/video/2.mp4: 1088x1920 16 0s, Done. (0.021s)\n",
            "video 1/1 (48/216) data/test/video/2.mp4: 1088x1920 15 0s, Done. (0.021s)\n",
            "video 1/1 (49/216) data/test/video/2.mp4: 1088x1920 17 0s, Done. (0.021s)\n",
            "video 1/1 (50/216) data/test/video/2.mp4: 1088x1920 16 0s, Done. (0.021s)\n",
            "video 1/1 (51/216) data/test/video/2.mp4: 1088x1920 16 0s, Done. (0.021s)\n",
            "video 1/1 (52/216) data/test/video/2.mp4: 1088x1920 16 0s, Done. (0.021s)\n",
            "video 1/1 (53/216) data/test/video/2.mp4: 1088x1920 20 0s, Done. (0.021s)\n",
            "video 1/1 (54/216) data/test/video/2.mp4: 1088x1920 15 0s, Done. (0.022s)\n",
            "video 1/1 (55/216) data/test/video/2.mp4: 1088x1920 17 0s, Done. (0.021s)\n",
            "video 1/1 (56/216) data/test/video/2.mp4: 1088x1920 16 0s, Done. (0.021s)\n",
            "video 1/1 (57/216) data/test/video/2.mp4: 1088x1920 15 0s, Done. (0.021s)\n",
            "video 1/1 (58/216) data/test/video/2.mp4: 1088x1920 19 0s, Done. (0.021s)\n",
            "video 1/1 (59/216) data/test/video/2.mp4: 1088x1920 14 0s, Done. (0.021s)\n",
            "video 1/1 (60/216) data/test/video/2.mp4: 1088x1920 12 0s, Done. (0.021s)\n",
            "video 1/1 (61/216) data/test/video/2.mp4: 1088x1920 15 0s, Done. (0.021s)\n",
            "video 1/1 (62/216) data/test/video/2.mp4: 1088x1920 15 0s, Done. (0.020s)\n",
            "video 1/1 (63/216) data/test/video/2.mp4: 1088x1920 16 0s, Done. (0.020s)\n",
            "video 1/1 (64/216) data/test/video/2.mp4: 1088x1920 18 0s, Done. (0.020s)\n",
            "video 1/1 (65/216) data/test/video/2.mp4: 1088x1920 20 0s, Done. (0.020s)\n",
            "video 1/1 (66/216) data/test/video/2.mp4: 1088x1920 17 0s, Done. (0.020s)\n",
            "video 1/1 (67/216) data/test/video/2.mp4: 1088x1920 14 0s, Done. (0.020s)\n",
            "video 1/1 (68/216) data/test/video/2.mp4: 1088x1920 19 0s, Done. (0.020s)\n",
            "video 1/1 (69/216) data/test/video/2.mp4: 1088x1920 23 0s, Done. (0.020s)\n",
            "video 1/1 (70/216) data/test/video/2.mp4: 1088x1920 23 0s, Done. (0.020s)\n",
            "video 1/1 (71/216) data/test/video/2.mp4: 1088x1920 15 0s, Done. (0.020s)\n",
            "video 1/1 (72/216) data/test/video/2.mp4: 1088x1920 18 0s, Done. (0.020s)\n",
            "video 1/1 (73/216) data/test/video/2.mp4: 1088x1920 18 0s, Done. (0.020s)\n",
            "video 1/1 (74/216) data/test/video/2.mp4: 1088x1920 17 0s, Done. (0.020s)\n",
            "video 1/1 (75/216) data/test/video/2.mp4: 1088x1920 21 0s, Done. (0.020s)\n",
            "video 1/1 (76/216) data/test/video/2.mp4: 1088x1920 15 0s, Done. (0.020s)\n",
            "video 1/1 (77/216) data/test/video/2.mp4: 1088x1920 15 0s, Done. (0.020s)\n",
            "video 1/1 (78/216) data/test/video/2.mp4: 1088x1920 16 0s, Done. (0.020s)\n",
            "video 1/1 (79/216) data/test/video/2.mp4: 1088x1920 18 0s, Done. (0.020s)\n",
            "video 1/1 (80/216) data/test/video/2.mp4: 1088x1920 22 0s, Done. (0.020s)\n",
            "video 1/1 (81/216) data/test/video/2.mp4: 1088x1920 20 0s, Done. (0.020s)\n",
            "video 1/1 (82/216) data/test/video/2.mp4: 1088x1920 18 0s, Done. (0.020s)\n",
            "video 1/1 (83/216) data/test/video/2.mp4: 1088x1920 19 0s, Done. (0.020s)\n",
            "video 1/1 (84/216) data/test/video/2.mp4: 1088x1920 23 0s, Done. (0.020s)\n",
            "video 1/1 (85/216) data/test/video/2.mp4: 1088x1920 21 0s, Done. (0.020s)\n",
            "video 1/1 (86/216) data/test/video/2.mp4: 1088x1920 21 0s, Done. (0.020s)\n",
            "video 1/1 (87/216) data/test/video/2.mp4: 1088x1920 20 0s, Done. (0.020s)\n",
            "video 1/1 (88/216) data/test/video/2.mp4: 1088x1920 20 0s, Done. (0.020s)\n",
            "video 1/1 (89/216) data/test/video/2.mp4: 1088x1920 23 0s, Done. (0.020s)\n",
            "video 1/1 (90/216) data/test/video/2.mp4: 1088x1920 23 0s, Done. (0.020s)\n",
            "video 1/1 (91/216) data/test/video/2.mp4: 1088x1920 15 0s, Done. (0.020s)\n",
            "video 1/1 (92/216) data/test/video/2.mp4: 1088x1920 17 0s, Done. (0.020s)\n",
            "video 1/1 (93/216) data/test/video/2.mp4: 1088x1920 20 0s, Done. (0.020s)\n",
            "video 1/1 (94/216) data/test/video/2.mp4: 1088x1920 19 0s, Done. (0.020s)\n",
            "video 1/1 (95/216) data/test/video/2.mp4: 1088x1920 19 0s, Done. (0.020s)\n",
            "video 1/1 (96/216) data/test/video/2.mp4: 1088x1920 16 0s, Done. (0.020s)\n",
            "video 1/1 (97/216) data/test/video/2.mp4: 1088x1920 19 0s, Done. (0.020s)\n",
            "video 1/1 (98/216) data/test/video/2.mp4: 1088x1920 15 0s, Done. (0.021s)\n",
            "video 1/1 (99/216) data/test/video/2.mp4: 1088x1920 15 0s, Done. (0.020s)\n",
            "video 1/1 (100/216) data/test/video/2.mp4: 1088x1920 16 0s, Done. (0.020s)\n",
            "video 1/1 (101/216) data/test/video/2.mp4: 1088x1920 14 0s, Done. (0.020s)\n",
            "video 1/1 (102/216) data/test/video/2.mp4: 1088x1920 16 0s, Done. (0.021s)\n",
            "video 1/1 (103/216) data/test/video/2.mp4: 1088x1920 17 0s, Done. (0.020s)\n",
            "video 1/1 (104/216) data/test/video/2.mp4: 1088x1920 15 0s, Done. (0.021s)\n",
            "video 1/1 (105/216) data/test/video/2.mp4: 1088x1920 15 0s, Done. (0.021s)\n",
            "video 1/1 (106/216) data/test/video/2.mp4: 1088x1920 17 0s, Done. (0.021s)\n",
            "video 1/1 (107/216) data/test/video/2.mp4: 1088x1920 13 0s, Done. (0.021s)\n",
            "video 1/1 (108/216) data/test/video/2.mp4: 1088x1920 14 0s, Done. (0.021s)\n",
            "video 1/1 (109/216) data/test/video/2.mp4: 1088x1920 10 0s, Done. (0.021s)\n",
            "video 1/1 (110/216) data/test/video/2.mp4: 1088x1920 12 0s, Done. (0.021s)\n",
            "video 1/1 (111/216) data/test/video/2.mp4: 1088x1920 11 0s, Done. (0.021s)\n",
            "video 1/1 (112/216) data/test/video/2.mp4: 1088x1920 14 0s, Done. (0.021s)\n",
            "video 1/1 (113/216) data/test/video/2.mp4: 1088x1920 19 0s, Done. (0.021s)\n",
            "video 1/1 (114/216) data/test/video/2.mp4: 1088x1920 15 0s, Done. (0.021s)\n",
            "video 1/1 (115/216) data/test/video/2.mp4: 1088x1920 12 0s, Done. (0.020s)\n",
            "video 1/1 (116/216) data/test/video/2.mp4: 1088x1920 13 0s, Done. (0.021s)\n",
            "video 1/1 (117/216) data/test/video/2.mp4: 1088x1920 13 0s, Done. (0.020s)\n",
            "video 1/1 (118/216) data/test/video/2.mp4: 1088x1920 17 0s, Done. (0.020s)\n",
            "video 1/1 (119/216) data/test/video/2.mp4: 1088x1920 16 0s, Done. (0.020s)\n",
            "video 1/1 (120/216) data/test/video/2.mp4: 1088x1920 15 0s, Done. (0.020s)\n",
            "video 1/1 (121/216) data/test/video/2.mp4: 1088x1920 14 0s, Done. (0.020s)\n",
            "video 1/1 (122/216) data/test/video/2.mp4: 1088x1920 12 0s, Done. (0.020s)\n",
            "video 1/1 (123/216) data/test/video/2.mp4: 1088x1920 15 0s, Done. (0.020s)\n",
            "video 1/1 (124/216) data/test/video/2.mp4: 1088x1920 14 0s, Done. (0.020s)\n",
            "video 1/1 (125/216) data/test/video/2.mp4: 1088x1920 12 0s, Done. (0.020s)\n",
            "video 1/1 (126/216) data/test/video/2.mp4: 1088x1920 10 0s, Done. (0.020s)\n",
            "video 1/1 (127/216) data/test/video/2.mp4: 1088x1920 9 0s, Done. (0.020s)\n",
            "video 1/1 (128/216) data/test/video/2.mp4: 1088x1920 5 0s, Done. (0.020s)\n",
            "Results saved to /content/SurfCrowd/inference/output\n",
            "Done. (7.769s)\n"
          ],
          "name": "stdout"
        }
      ]
    },
    {
      "cell_type": "code",
      "metadata": {
        "id": "O_xZCR1CxKWp",
        "colab_type": "code",
        "colab": {},
        "cellView": "code"
      },
      "source": [
        "import glob\n",
        "import pandas as pd \n",
        "import matplotlib.pyplot as plt\n",
        "\n",
        "inferedData = []\n",
        "for txtName in glob.glob('/content/SurfCrowd/inference/output/*.txt'):\n",
        "    num_lines = sum(1 for line in open(txtName))  \n",
        "    inferedData.append(num_lines)\n",
        "\n",
        "stats = pd.Series(inferedData).describe()\n",
        "print(stats)\n",
        "plt.hist(inferedData, bins=30, alpha=1, histtype='stepfilled', color='steelblue');\n",
        "\n",
        "# # uncomment this if images were inputed \n",
        "# from IPython.display import Image, display\n",
        "# for imageName in glob.glob('/content/SurfCrowd/inference/output/*.jpg'):\n",
        "#     display(Image(filename=imageName))\n",
        "#     print(\"\\n\")"
      ],
      "execution_count": null,
      "outputs": []
    },
    {
      "cell_type": "markdown",
      "metadata": {
        "id": "xtrLVgM7xe7C",
        "colab_type": "text"
      },
      "source": [
        "Run this cell to show the generated video if one was used in the input. This will take a bit given the need to convert/compress the generated video."
      ]
    },
    {
      "cell_type": "code",
      "metadata": {
        "id": "pCRvAXGqpBsm",
        "colab_type": "code",
        "colab": {}
      },
      "source": [
        "from IPython.display import HTML\n",
        "from base64 import b64encode\n",
        "import os\n",
        "\n",
        "# compress the outputed video to display it\n",
        "save_path = \"/content/SurfCrowd/inference/output/1.mp4\"\n",
        "compressed_path = \"/content/compressed1.mp4\"\n",
        "os.system(f\"ffmpeg -i {save_path} -vcodec libx264 {compressed_path}\")\n",
        "\n",
        "# Show the outputed video\n",
        "mp4 = open(compressed_path,'rb').read()\n",
        "data_url = \"data:video/mp4;base64,\" + b64encode(mp4).decode()\n",
        "HTML(\"\"\"\n",
        "<video width=640 controls>\n",
        "      <source src=\"%s\" type=\"video/mp4\">\n",
        "</video>\n",
        "\"\"\" % data_url)"
      ],
      "execution_count": null,
      "outputs": []
    }
  ]
}